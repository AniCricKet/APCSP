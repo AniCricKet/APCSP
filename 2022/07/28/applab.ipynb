{
 "cells": [
  {
   "cell_type": "markdown",
   "metadata": {},
   "source": [
    "# App Lab\n",
    "    App Lab is the tool we will be using to introduce you to JavaScript.\n",
    "\n",
    "To start, please create a https://studio.code.org/users/sign_in account and go to the following link: https://studio.code.org/projects/applab"
   ]
  },
  {
   "cell_type": "markdown",
   "metadata": {},
   "source": [
    "## Exploring App Lab\n",
    "* Go ahead and take a look at the interface, discuss with a partner what features you see.\n",
    "### Console\n",
    "In the code toolbox click variables and look at: console.log(\"message\")\n",
    "\n",
    "Drag this into your workspace. You can change the message if you would like.\n",
    "\n",
    "* The message does not print in the app. Where does it print?\n",
    "* Why would it be useful to have a print statement that the user does not see?\n",
    "\n",
    "### Elements\n",
    "Make sure you are in design mode and select the elements to drag into the app. Take a look at the changable attributes of each elements. You can use the workspace to change these manually or you can try to change the attributes with a line of code.\n",
    "\n",
    "In the code toolbox click UI controls. There are multiple functions that can affect the elements. Go ahead and play around with the different elements and see what you can do.\n",
    "\n",
    "* Share something interesting you found with your partner.\n",
    "* How can you keep track of all the elements you created?"
   ]
  },
  {
   "cell_type": "markdown",
   "metadata": {},
   "source": [
    "## Example\n",
    "\n",
    "This is an example of an incomplete program: https://studio.code.org/projects/applab/rEkq6_-HMk-W8WkN1WoZFm45pdGoioqK4ur9sYYve6Q\n",
    "\n",
    "* What could you do to improve this program?"
   ]
  },
  {
   "cell_type": "markdown",
   "metadata": {},
   "source": [
    "## Design\n",
    "\n",
    "You will be creating your own quiz with a partner choosing a topic of your choice. The most important thing you do before coding is to PLAN. Make an outline of the quiz you would like to create before you do any coding. \n",
    "\n",
    "When you are done:\n",
    "* Share your program with the class: https://docs.google.com/forms/d/e/1FAIpQLSd1t5TTelZpp0JxCWKjNu-VVLvWZMg6UP7LKPlTQhkp26Cz8w/viewform?usp=sf_link\n",
    "* Class programs can be found here: https://docs.google.com/spreadsheets/d/1kgPNS4tkcuUmpm0f6piw5ARTW-JW2qN8FYb681z8syY/edit?usp=sharing"
   ]
  },
  {
   "cell_type": "markdown",
   "metadata": {},
   "source": [
    "## Hacks\n",
    "* If you finish your quiz early, try coming up with a new idea for an app you think could work within App Lab. Remember to make a plan before you start any coding."
   ]
  }
 ],
 "metadata": {
  "language_info": {
   "name": "python"
  },
  "orig_nbformat": 4
 },
 "nbformat": 4,
 "nbformat_minor": 2
}
